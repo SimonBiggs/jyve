{
 "cells": [
  {
   "cell_type": "code",
   "execution_count": null,
   "metadata": {},
   "outputs": [
    {
     "data": {
      "text/plain": [
       "[object HTMLScriptElement]"
      ]
     },
     "execution_count": 244,
     "metadata": {},
     "output_type": "execute_result"
    }
   ],
   "source": [
    "req_script = document.createElement \"script\"\n",
    "req_script.src = \"./static/components/requirejs/require.js\"\n",
    "@document.body.appendChild req_script"
   ]
  },
  {
   "cell_type": "code",
   "execution_count": null,
   "metadata": {},
   "outputs": [
    {
     "data": {
      "text/markdown": [
       "> _you can print some markdown with `dm`_"
      ]
     },
     "execution_count": 245,
     "metadata": {},
     "output_type": "execute_result"
    },
    {
     "data": {
      "text/plain": []
     },
     "execution_count": 245,
     "metadata": {},
     "output_type": "execute_result"
    }
   ],
   "source": [
    "dm = (md) => @display.display \"text/markdown\": md\n",
    "dm \"> _you can print some markdown with `dm`_\""
   ]
  },
  {
   "cell_type": "code",
   "execution_count": null,
   "metadata": {},
   "outputs": [
    {
     "data": {
      "text/markdown": [
       "> _you can load some remote assets with `cdnjs`_"
      ]
     },
     "execution_count": 246,
     "metadata": {},
     "output_type": "execute_result"
    },
    {
     "data": {
      "text/plain": []
     },
     "execution_count": 246,
     "metadata": {},
     "output_type": "execute_result"
    }
   ],
   "source": [
    "cdnjs = (name, version) =>\n",
    "    cdn = \"https://cdnjs.cloudflare.com/ajax/libs/\"\n",
    "    @requirejs [\"#{cdn}#{name}/#{version}\"], \n",
    "        (it) => \n",
    "            window[name] = it\n",
    "            dm \"`#{name}` loaded!\"\n",
    "            console.log it\n",
    "    dm \"_loading `#{name}`..._\"\n",
    "dm \"> _you can load some remote assets with `cdnjs`_\""
   ]
  },
  {
   "cell_type": "code",
   "execution_count": null,
   "metadata": {},
   "outputs": [
    {
     "data": {
      "text/markdown": [
       "_loading `d3`..._"
      ]
     },
     "execution_count": 247,
     "metadata": {},
     "output_type": "execute_result"
    },
    {
     "data": {
      "text/plain": []
     },
     "execution_count": 247,
     "metadata": {},
     "output_type": "execute_result"
    },
    {
     "data": {
      "text/markdown": [
       "`d3` loaded!"
      ]
     },
     "execution_count": 247,
     "metadata": {},
     "output_type": "execute_result"
    }
   ],
   "source": [
    "@cdnjs \"d3\", \"4.13.0/d3.min.js\""
   ]
  },
  {
   "cell_type": "code",
   "execution_count": null,
   "metadata": {},
   "outputs": [
    {
     "data": {
      "text/plain": [
       "[object Object]"
      ]
     },
     "execution_count": 248,
     "metadata": {},
     "output_type": "execute_result"
    }
   ],
   "source": [
    "svg = d3.select \"body\"\n",
    "    .selectAll \"svg\"\n",
    "    .data [1]\n",
    "    .call (s) -> s.exit().remove()"
   ]
  },
  {
   "cell_type": "code",
   "execution_count": null,
   "metadata": {},
   "outputs": [
    {
     "data": {
      "text/plain": [
       "[object Object]"
      ]
     },
     "execution_count": 249,
     "metadata": {},
     "output_type": "execute_result"
    }
   ],
   "source": [
    "svg = svg.enter()\n",
    "    .append \"svg\"\n",
    "    .merge svg\n",
    "    .attr \"width\", \"100%\""
   ]
  },
  {
   "cell_type": "code",
   "execution_count": null,
   "metadata": {},
   "outputs": [
    {
     "data": {
      "text/plain": [
       "[object Object]"
      ]
     },
     "execution_count": 250,
     "metadata": {},
     "output_type": "execute_result"
    }
   ],
   "source": [
    "rect = svg\n",
    "    .selectAll \"rect\"\n",
    "    .data [1, 2, 3]\n",
    "    .call (s) -> s.exit().remove()\n",
    "\n",
    "rect = rect.enter()\n",
    "    .append(\"rect\")\n",
    "    .merge(rect)"
   ]
  },
  {
   "cell_type": "code",
   "execution_count": null,
   "metadata": {},
   "outputs": [
    {
     "data": {
      "text/plain": [
       "(size) => {\n",
       "  return rect.attr(\"x\", (d) => {\n",
       "    return d * (size * 1.5);\n",
       "  }).attr(\"y\", 10).attr(\"width\", size).attr(\"height\", size).attr(\"fill\", \"black\");\n",
       "}"
      ]
     },
     "execution_count": 254,
     "metadata": {},
     "output_type": "execute_result"
    }
   ],
   "source": [
    "update = (size) =>\n",
    "    rect.attr \"x\", (d) => d * (size * 1.5)\n",
    "        .attr \"y\", 10\n",
    "        .attr \"width\", size\n",
    "        .attr \"height\", size\n",
    "        .attr \"fill\", \"black\""
   ]
  },
  {
   "cell_type": "code",
   "execution_count": null,
   "metadata": {},
   "outputs": [
    {
     "data": {
      "text/plain": [
       "[object Object]"
      ]
     },
     "execution_count": 255,
     "metadata": {},
     "output_type": "execute_result"
    }
   ],
   "source": [
    "slider = d3.selectAll \"input\"\n",
    "    .data [\"width\", \"height\"]\n",
    "    .call (s) -> s.exit().remove()\n",
    "\n",
    "slider\n",
    "    .enter()\n",
    "    .insert \"input\", \":first-child\"\n",
    "    .merge slider\n",
    "    .attr \"type\", \"range\"\n",
    "    .on \"input\", (d) -> \n",
    "        rect.attr d, parseFloat d3.event.currentTarget.value"
   ]
  },
  {
   "cell_type": "code",
   "execution_count": null,
   "metadata": {},
   "outputs": [],
   "source": []
  },
  {
   "cell_type": "code",
   "execution_count": null,
   "metadata": {},
   "outputs": [],
   "source": []
  }
 ],
 "metadata": {
  "kernelspec": {
   "display_name": "CoffeeScript (unsafe) — Jyve",
   "language": "coffeescript",
   "name": "jyve-coffee-unsafe"
  },
  "language_info": {
   "codemirror_mode": {
    "name": "coffeescript"
   },
   "file_extension": ".coffee",
   "mimetype": "text/coffeescript",
   "name": "coffeescript",
   "nbconvert_exporter": "coffeescript",
   "pygments_lexer": "coffeescript",
   "version": "2.2.1"
  }
 },
 "nbformat": 4,
 "nbformat_minor": 2
}
