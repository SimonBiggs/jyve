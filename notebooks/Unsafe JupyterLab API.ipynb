{
 "cells": [
  {
   "cell_type": "markdown",
   "metadata": {},
   "source": [
    "# Unsafe `JupyterLab` API\n",
    "For giggles, the `JupyterLab` application is available inside your kernel. You can use it do useful things like loading files:"
   ]
  },
  {
   "cell_type": "code",
   "execution_count": null,
   "metadata": {},
   "outputs": [
    {
     "data": {
      "text/plain": [
       "{\n",
       "  \"cell_type\": \"markdown\",\n",
       "  \"metadata\": {},\n",
       "  \"source\": \"# Jyve Demos\\nHere are some demos of things you can do with Jyve and a modern browser.\"\n",
       "}"
      ]
     },
     "execution_count": 31,
     "metadata": {},
     "output_type": "execute_result"
    },
    {
     "data": {
      "text/plain": []
     },
     "execution_count": 31,
     "metadata": {},
     "output_type": "execute_result"
    }
   ],
   "source": [
    "JupyterLab.serviceManager.contents.get(\"index.ipynb\")\n",
    "    .then((x) => {\n",
    "        display.display({\"text/plain\": JSON.stringify(x.content[\"cells\"][0], null, 2)})\n",
    "    })"
   ]
  },
  {
   "cell_type": "markdown",
   "metadata": {},
   "source": [
    "Or dangerous things, like open new notebooks:"
   ]
  },
  {
   "cell_type": "code",
   "execution_count": null,
   "metadata": {},
   "outputs": [
    {
     "data": {
      "text/markdown": [
       "## Notebook\n",
       "  - _flags\n",
       "  - _layout\n",
       "  - _parent\n",
       "  - _disposed\n",
       "  - node\n",
       "  - _context\n",
       "  - _activated\n",
       "  - _contextChanged\n",
       "  - _ready\n",
       "  - rendermime\n",
       "  - contentFactory\n",
       "  - notebook"
      ]
     },
     "execution_count": 38,
     "metadata": {},
     "output_type": "execute_result"
    },
    {
     "data": {
      "text/plain": []
     },
     "execution_count": 38,
     "metadata": {},
     "output_type": "execute_result"
    }
   ],
   "source": [
    "JupyterLab.commands.execute(\"notebook:create-new\")\n",
    "    .then((notebook) => {\n",
    "        display.display({\n",
    "            \"text/markdown\": `## Notebook\\n  - ${\n",
    "                [].concat(Object.keys(notebook)).join('\\n  - ')\n",
    "            }`\n",
    "        })\n",
    "    })"
   ]
  }
 ],
 "metadata": {
  "kernelspec": {
   "display_name": "JS (unsafe) — Jyve",
   "language": "javascript",
   "name": "jyve-js-unsafe"
  },
  "language_info": {
   "codemirror_mode": {
    "name": "javascript"
   },
   "file_extension": ".js",
   "mimetype": "text/javascript",
   "name": "javascript",
   "nbconvert_exporter": "javascript",
   "pygments_lexer": "javascript",
   "version": "ES2015"
  }
 },
 "nbformat": 4,
 "nbformat_minor": 2
}
