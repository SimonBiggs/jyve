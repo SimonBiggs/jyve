{
 "cells": [
  {
   "cell_type": "markdown",
   "metadata": {},
   "source": [
    "# Jyve JavasScript"
   ]
  },
  {
   "cell_type": "code",
   "execution_count": null,
   "metadata": {},
   "outputs": [
    {
     "data": {
      "text/plain": [
       "2"
      ]
     },
     "execution_count": 6,
     "metadata": {},
     "output_type": "execute_result"
    }
   ],
   "source": [
    "1 + 1"
   ]
  },
  {
   "cell_type": "code",
   "execution_count": null,
   "metadata": {},
   "outputs": [
    {
     "data": {
      "text/plain": [
       "ReferenceError: sir_not_appearing_in_this_notebook is not defined"
      ]
     },
     "execution_count": 8,
     "metadata": {},
     "output_type": "execute_result"
    },
    {
     "ename": "ReferenceError",
     "evalue": "sir_not_appearing_in_this_notebook is not defined",
     "output_type": "error",
     "traceback": [
      "ReferenceError: sir_not_appearing_in_this_notebook is not defined",
      "    at eval (<anonymous>:1:1)",
      "    at Object.<anonymous> (http://localhost:8888/lab/static/main.56bbec9de0f0879d146b.js:108629:70)",
      "    at step (http://localhost:8888/lab/static/main.56bbec9de0f0879d146b.js:108569:23)",
      "    at Object.next (http://localhost:8888/lab/static/main.56bbec9de0f0879d146b.js:108550:53)",
      "    at http://localhost:8888/lab/static/main.56bbec9de0f0879d146b.js:108544:71",
      "    at new Promise (<anonymous>:null:null)",
      "    at webpackJsonp.m0hr.__awaiter (http://localhost:8888/lab/static/main.56bbec9de0f0879d146b.js:108540:12)",
      "    at Object.<anonymous> (http://localhost:8888/lab/static/main.56bbec9de0f0879d146b.js:108626:36)",
      "    at JSUnsafeKernel.<anonymous> (http://localhost:8888/lab/static/main.56bbec9de0f0879d146b.js:108636:28)",
      "    at step (http://localhost:8888/lab/static/main.56bbec9de0f0879d146b.js:108569:23)",
      "    at Object.next (http://localhost:8888/lab/static/main.56bbec9de0f0879d146b.js:108550:53)",
      "    at http://localhost:8888/lab/static/main.56bbec9de0f0879d146b.js:108544:71",
      "    at new Promise (<anonymous>:null:null)",
      "    at webpackJsonp.m0hr.__awaiter (http://localhost:8888/lab/static/main.56bbec9de0f0879d146b.js:108540:12)",
      "    at JSUnsafeKernel.webpackJsonp.m0hr.JSUnsafeKernel.execute (http://localhost:8888/lab/static/main.56bbec9de0f0879d146b.js:108622:16)",
      "    at JSUnsafeKernel.<anonymous> (http://localhost:8888/lab/static/main.56bbec9de0f0879d146b.js:108655:51)",
      "    at step (http://localhost:8888/lab/static/main.56bbec9de0f0879d146b.js:108569:23)",
      "    at Object.next (http://localhost:8888/lab/static/main.56bbec9de0f0879d146b.js:108550:53)",
      "    at fulfilled (http://localhost:8888/lab/static/main.56bbec9de0f0879d146b.js:108541:58)",
      "    at <anonymous>:null:null",
      ""
     ]
    }
   ],
   "source": [
    "sir_not_appearing_in_this_notebook"
   ]
  },
  {
   "cell_type": "code",
   "execution_count": null,
   "metadata": {},
   "outputs": [
    {
     "data": {
      "text/plain": [
       "1"
      ]
     },
     "execution_count": 10,
     "metadata": {},
     "output_type": "execute_result"
    }
   ],
   "source": [
    "this.x = 1"
   ]
  },
  {
   "cell_type": "code",
   "execution_count": null,
   "metadata": {},
   "outputs": [
    {
     "data": {
      "text/plain": [
       "{\"x\":1}"
      ]
     },
     "execution_count": 12,
     "metadata": {},
     "output_type": "execute_result"
    }
   ],
   "source": [
    "JSON.stringify(this)"
   ]
  },
  {
   "cell_type": "code",
   "execution_count": null,
   "metadata": {},
   "outputs": [
    {
     "data": {
      "text/plain": [
       "class Adder {\n",
       "    add(a, b) {\n",
       "        return a + b;\n",
       "    }\n",
       "}"
      ]
     },
     "execution_count": 14,
     "metadata": {},
     "output_type": "execute_result"
    }
   ],
   "source": [
    "class Adder {\n",
    "    add(a, b) {\n",
    "        return a + b;\n",
    "    }\n",
    "}\n",
    "this.Adder = Adder"
   ]
  },
  {
   "cell_type": "code",
   "execution_count": null,
   "metadata": {},
   "outputs": [],
   "source": [
    "var it = new this.Adder();\n",
    "it.add(1, 1)"
   ]
  },
  {
   "cell_type": "code",
   "execution_count": null,
   "metadata": {},
   "outputs": [],
   "source": [
    "Adder"
   ]
  },
  {
   "cell_type": "code",
   "execution_count": null,
   "metadata": {},
   "outputs": [],
   "source": []
  }
 ],
 "metadata": {
  "kernelspec": {
   "display_name": "JavaScript (unsafe)",
   "language": "JavaScript",
   "name": "jyve-js-unsafe"
  },
  "language_info": {
   "codemirror_mode": {
    "name": "javascript"
   },
   "file_extension": ".js",
   "mimetype": "text/javascript",
   "name": "javascript",
   "nbconvert_exporter": "javascript",
   "pygments_lexer": "javascript",
   "version": "ES2015"
  }
 },
 "nbformat": 4,
 "nbformat_minor": 2
}
