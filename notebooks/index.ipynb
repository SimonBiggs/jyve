{
 "cells": [
  {
   "cell_type": "markdown",
   "metadata": {},
   "source": [
    "# Jyve Demos\n",
    "Here are some demos of things you can do with Jyve and a modern browser."
   ]
  },
  {
   "cell_type": "markdown",
   "metadata": {},
   "source": [
    "## Unsafe, In-process Kernels\n",
    "Jyve kernels don't run on your notebook server. The first couple just run right in the same process as the JupyterLab:\n",
    "\n",
    "> NOTE: Using them might make your JupyterLab session unstable!\n",
    "\n",
    "- [x] [JavaScript](./JavaScript.ipynb)\n",
    "- [x] [CoffeeScript](./CoffeeScript.ipynb)\n",
    "- [ ] TypeScript\n",
    "- [ ] Brython\n"
   ]
  },
  {
   "cell_type": "markdown",
   "metadata": {},
   "source": [
    "## Language Features\n",
    "- [x] [Basic Rich Output](./Rich Output.ipynb)\n",
    "- [ ] Detecting and displaying JavaScript types\n",
    "- [ ] Using the JupyterLab \"standard library\" (d3, React, jquery, phosphor, underscore, etc)\n",
    "- [ ] Widgets"
   ]
  },
  {
   "cell_type": "markdown",
   "metadata": {},
   "source": [
    "## TODO: `iframe` Kernels\n",
    "## TODO: `WebWorker` Kernels\n",
    "## TODO: `caja` Kernels"
   ]
  }
 ],
 "metadata": {
  "kernelspec": {
   "display_name": "JavaScript (unsafe)",
   "language": "JavaScript",
   "name": "jyve-js-unsafe"
  },
  "language_info": {
   "codemirror_mode": {
    "name": "javascript"
   },
   "file_extension": ".js",
   "mimetype": "text/javascript",
   "name": "javascript",
   "nbconvert_exporter": "javascript",
   "pygments_lexer": "javascript",
   "version": "ES2015"
  }
 },
 "nbformat": 4,
 "nbformat_minor": 2
}
