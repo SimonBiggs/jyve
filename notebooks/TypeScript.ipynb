{
 "cells": [
  {
   "cell_type": "markdown",
   "metadata": {},
   "source": [
    "# Jyve TypeScript\n",
    "[TypeScript](https://www.typescriptlang.org/) is a typed language that compiles to JavaScript. It is also the language in which JupyterLab (and Jyve) are mostly written."
   ]
  },
  {
   "cell_type": "code",
   "execution_count": null,
   "metadata": {},
   "outputs": [
    {
     "data": {
      "text/plain": []
     },
     "execution_count": 29,
     "metadata": {},
     "output_type": "execute_result"
    }
   ],
   "source": [
    "export interface IAnimal {\n",
    "    sound: string;\n",
    "}"
   ]
  },
  {
   "cell_type": "code",
   "execution_count": null,
   "metadata": {},
   "outputs": [
    {
     "data": {
      "text/plain": []
     },
     "execution_count": 30,
     "metadata": {},
     "output_type": "execute_result"
    }
   ],
   "source": [
    "class Snake implements IAnimal {\n",
    "    private _sound = 'hiss';\n",
    "    get sound(){ return this._sound; }\n",
    "    set sound(sound){ this._sound = sound; }\n",
    "}\n",
    "let snake = new Snake()"
   ]
  },
  {
   "cell_type": "code",
   "execution_count": null,
   "metadata": {},
   "outputs": [
    {
     "data": {
      "text/plain": [
       "hiss"
      ]
     },
     "execution_count": 31,
     "metadata": {},
     "output_type": "execute_result"
    }
   ],
   "source": [
    "snake.sound"
   ]
  },
  {
   "cell_type": "code",
   "execution_count": null,
   "metadata": {},
   "outputs": [
    {
     "data": {
      "text/markdown": [
       "# hello"
      ]
     },
     "execution_count": 3,
     "metadata": {},
     "output_type": "execute_result"
    },
    {
     "data": {
      "text/plain": []
     },
     "execution_count": 3,
     "metadata": {},
     "output_type": "execute_result"
    }
   ],
   "source": [
    "this.display.display({\n",
    "    \"text/markdown\": \"# hello\"\n",
    "})"
   ]
  },
  {
   "cell_type": "code",
   "execution_count": null,
   "metadata": {},
   "outputs": [],
   "source": []
  }
 ],
 "metadata": {
  "kernelspec": {
   "display_name": "TypeScript (unsafe) — Jyve",
   "language": "typescript",
   "name": "jyve-typescript-unsafe"
  },
  "language_info": {
   "codemirror_mode": {
    "name": "typescript"
   },
   "file_extension": ".ts",
   "mimetype": "application/x-typescript",
   "name": "typescript",
   "nbconvert_exporter": "typescript",
   "pygments_lexer": "typescript",
   "version": "2.2.1"
  }
 },
 "nbformat": 4,
 "nbformat_minor": 2
}
