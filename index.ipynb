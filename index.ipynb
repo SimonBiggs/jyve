{
 "cells": [
  {
   "cell_type": "markdown",
   "metadata": {},
   "source": [
    "# Jyve Demos\n",
    "Here are some demos of things you can do with Jyve and a modern browser."
   ]
  },
  {
   "cell_type": "markdown",
   "metadata": {},
   "source": [
    "## IFrame Kernels\n",
    "Jyve kernels don't run on your notebook server. The first couple just run in their own iframe.\n",
    "\n",
    "> NOTE: Using them might make your JupyterLab session unstable!\n",
    "\n",
    "- [JavaScript](./notebooks/JavaScript.ipynb)\n",
    "- [CoffeeScript](./notebooks/CoffeeScript.ipynb)\n",
    "- [TypeScript](./notebooks/TypeScript.ipynb)\n",
    "- [Brython](./notebooks/Brython.ipynb)"
   ]
  },
  {
   "cell_type": "markdown",
   "metadata": {},
   "source": [
    "## Language Features\n",
    "- [x] [Basic Rich Output](./notebooks/Rich Output.ipynb)\n",
    "- [ ] Detecting and displaying JavaScript types\n",
    "- [ ] Using the JupyterLab \"standard library\" (d3, React, jquery, phosphor, underscore, etc)\n",
    "- [ ] Widgets"
   ]
  },
  {
   "cell_type": "markdown",
   "metadata": {},
   "source": [
    "## TODO: `WebWorker` Kernels\n",
    "## TODO: `caja` Kernels"
   ]
  }
 ],
 "metadata": {
  "kernelspec": {
   "display_name": "JS (unsafe) — Jyve",
   "language": "javascript",
   "name": "jyve-js-unsafe"
  },
  "language_info": {
   "codemirror_mode": {
    "name": "javascript"
   },
   "file_extension": ".js",
   "mimetype": "text/javascript",
   "name": "javascript",
   "nbconvert_exporter": "javascript",
   "pygments_lexer": "javascript",
   "version": "ES2015"
  }
 },
 "nbformat": 4,
 "nbformat_minor": 2
}
